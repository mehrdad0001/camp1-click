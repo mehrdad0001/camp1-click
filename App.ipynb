{
 "cells": [
  {
   "cell_type": "code",
   "execution_count": 1,
   "metadata": {},
   "outputs": [],
   "source": [
    "# path shold be like this: \n",
    "# \"https://b2n.ir/mehrdad-test\"\n",
    "\n",
    "path = \"https://www.irantalent.com/tests/category/skill-programming?utm_source=ittest&utm_medium=sms&utm_campaign=IT-ENY-FT\"\n"
   ]
  },
  {
   "cell_type": "code",
   "execution_count": 2,
   "metadata": {},
   "outputs": [],
   "source": [
    "# import some things\n",
    "from selenium import webdriver\n",
    "import time\n"
   ]
  },
  {
   "cell_type": "code",
   "execution_count": 3,
   "metadata": {},
   "outputs": [],
   "source": [
    "# make a function for that\n",
    "def Mehrdad_clicker(path):\n",
    "    # set chrome option to make `Incognito`\n",
    "    chrome_options = webdriver.ChromeOptions()\n",
    "    chrome_options.add_argument(\"--incognito\")\n",
    "\n",
    "    # make a new webdriver, I use from Chrome because I like it\n",
    "    driver = webdriver.Chrome(options=chrome_options)\n",
    "\n",
    "    # now use our incognito webdriver for click on `path` link\n",
    "    driver.get(path)\n",
    "    time.sleep(1)\n",
    "    driver.quit()\n",
    "    time.sleep(1)\n"
   ]
  },
  {
   "cell_type": "code",
   "execution_count": null,
   "metadata": {},
   "outputs": [],
   "source": [
    "# test\n",
    "for i in range(60):\n",
    "    Mehrdad_clicker(path)\n",
    "    print(\"click \", i+1)"
   ]
  },
  {
   "cell_type": "code",
   "execution_count": 13,
   "metadata": {},
   "outputs": [
    {
     "name": "stdout",
     "output_type": "stream",
     "text": [
      "click  1\n",
      "click  2\n",
      "click  3\n",
      "click  4\n",
      "click  5\n",
      "click  6\n",
      "click  7\n",
      "click  8\n",
      "click  9\n",
      "click  10\n",
      "click  11\n",
      "click  12\n",
      "click  13\n",
      "click  14\n",
      "click  15\n",
      "click  16\n",
      "click  17\n",
      "click  18\n",
      "click  19\n",
      "click  20\n",
      "click  21\n",
      "click  22\n",
      "click  23\n",
      "click  24\n",
      "click  25\n",
      "click  26\n",
      "click  27\n",
      "click  28\n",
      "click  29\n",
      "click  30\n",
      "click  31\n",
      "click  32\n",
      "click  33\n",
      "click  34\n",
      "click  35\n",
      "click  36\n",
      "click  37\n",
      "click  38\n",
      "click  39\n",
      "click  40\n",
      "click  41\n",
      "click  42\n",
      "click  43\n",
      "click  44\n",
      "click  45\n",
      "click  46\n",
      "click  47\n",
      "click  48\n",
      "click  49\n",
      "click  50\n",
      "click  51\n",
      "click  52\n",
      "click  53\n",
      "click  54\n",
      "click  55\n",
      "click  56\n",
      "click  57\n",
      "click  58\n",
      "click  59\n",
      "click  60\n"
     ]
    }
   ],
   "source": [
    "for i in range(60):\n",
    "    Mehrdad_clicker(\"https://www.irantalent.com/tests/category/skill-programming?utm_source=ittest&utm_medium=sms&utm_campaign=IT-ENY-FT\")\n",
    "    print(\"click \", i+1)"
   ]
  },
  {
   "cell_type": "code",
   "execution_count": 14,
   "metadata": {},
   "outputs": [
    {
     "name": "stdout",
     "output_type": "stream",
     "text": [
      "click  1\n",
      "click  2\n",
      "click  3\n",
      "click  4\n",
      "click  5\n",
      "click  6\n",
      "click  7\n",
      "click  8\n",
      "click  9\n",
      "click  10\n",
      "click  11\n",
      "click  12\n",
      "click  13\n",
      "click  14\n",
      "click  15\n",
      "click  16\n",
      "click  17\n",
      "click  18\n",
      "click  19\n",
      "click  20\n",
      "click  21\n",
      "click  22\n",
      "click  23\n",
      "click  24\n",
      "click  25\n",
      "click  26\n",
      "click  27\n",
      "click  28\n",
      "click  29\n",
      "click  30\n",
      "click  31\n",
      "click  32\n",
      "click  33\n",
      "click  34\n",
      "click  35\n",
      "click  36\n",
      "click  37\n",
      "click  38\n",
      "click  39\n",
      "click  40\n",
      "click  41\n",
      "click  42\n",
      "click  43\n",
      "click  44\n",
      "click  45\n",
      "click  46\n",
      "click  47\n",
      "click  48\n",
      "click  49\n",
      "click  50\n",
      "click  51\n",
      "click  52\n",
      "click  53\n",
      "click  54\n",
      "click  55\n",
      "click  56\n",
      "click  57\n",
      "click  58\n",
      "click  59\n",
      "click  60\n"
     ]
    }
   ],
   "source": [
    "for i in range(60):\n",
    "    Mehrdad_clicker(\"https://www.irantalent.com/tests/category/skill-programming?utm_source=ittest&utm_medium=sms&utm_campaign=IT-ENN-TT\")\n",
    "    print(\"click \", i+1)"
   ]
  },
  {
   "cell_type": "code",
   "execution_count": 15,
   "metadata": {},
   "outputs": [
    {
     "name": "stdout",
     "output_type": "stream",
     "text": [
      "click  1\n",
      "click  2\n",
      "click  3\n",
      "click  4\n",
      "click  5\n",
      "click  6\n",
      "click  7\n",
      "click  8\n",
      "click  9\n",
      "click  10\n",
      "click  11\n",
      "click  12\n",
      "click  13\n",
      "click  14\n",
      "click  15\n",
      "click  16\n",
      "click  17\n",
      "click  18\n",
      "click  19\n",
      "click  20\n",
      "click  21\n",
      "click  22\n",
      "click  23\n",
      "click  24\n",
      "click  25\n",
      "click  26\n",
      "click  27\n",
      "click  28\n",
      "click  29\n",
      "click  30\n",
      "click  31\n",
      "click  32\n",
      "click  33\n",
      "click  34\n",
      "click  35\n",
      "click  36\n",
      "click  37\n",
      "click  38\n",
      "click  39\n",
      "click  40\n",
      "click  41\n",
      "click  42\n",
      "click  43\n",
      "click  44\n",
      "click  45\n",
      "click  46\n",
      "click  47\n",
      "click  48\n",
      "click  49\n",
      "click  50\n",
      "click  51\n"
     ]
    },
    {
     "ename": "WebDriverException",
     "evalue": "Message: unknown error: net::ERR_CONNECTION_TIMED_OUT\n  (Session info: chrome=115.0.5790.171)\nStacktrace:\nBacktrace:\n\tGetHandleVerifier [0x0053A813+48355]\n\t(No symbol) [0x004CC4B1]\n\t(No symbol) [0x003D5358]\n\t(No symbol) [0x003D1B33]\n\t(No symbol) [0x003C8CA5]\n\t(No symbol) [0x003C9D0A]\n\t(No symbol) [0x003C9003]\n\t(No symbol) [0x003C8355]\n\t(No symbol) [0x003C82EC]\n\t(No symbol) [0x003C6F26]\n\t(No symbol) [0x003C7688]\n\t(No symbol) [0x003D6B52]\n\t(No symbol) [0x0042CF01]\n\t(No symbol) [0x0041A73C]\n\t(No symbol) [0x0042C922]\n\t(No symbol) [0x0041A536]\n\t(No symbol) [0x003F82DC]\n\t(No symbol) [0x003F93DD]\n\tGetHandleVerifier [0x0079AABD+2539405]\n\tGetHandleVerifier [0x007DA78F+2800735]\n\tGetHandleVerifier [0x007D456C+2775612]\n\tGetHandleVerifier [0x005C51E0+616112]\n\t(No symbol) [0x004D5F8C]\n\t(No symbol) [0x004D2328]\n\t(No symbol) [0x004D240B]\n\t(No symbol) [0x004C4FF7]\n\tBaseThreadInitThunk [0x76AD00C9+25]\n\tRtlGetAppContainerNamedObjectPath [0x777C7B1E+286]\n\tRtlGetAppContainerNamedObjectPath [0x777C7AEE+238]\n",
     "output_type": "error",
     "traceback": [
      "\u001b[1;31m---------------------------------------------------------------------------\u001b[0m",
      "\u001b[1;31mWebDriverException\u001b[0m                        Traceback (most recent call last)",
      "Cell \u001b[1;32mIn[15], line 2\u001b[0m\n\u001b[0;32m      1\u001b[0m \u001b[39mfor\u001b[39;00m i \u001b[39min\u001b[39;00m \u001b[39mrange\u001b[39m(\u001b[39m60\u001b[39m):\n\u001b[1;32m----> 2\u001b[0m     Mehrdad_clicker(\u001b[39m\"\u001b[39;49m\u001b[39mhttps://www.irantalent.com/tests/category/skill-programming?utm_source=ittest&utm_medium=sms&utm_campaign=IT-ENY-TT\u001b[39;49m\u001b[39m\"\u001b[39;49m)\n\u001b[0;32m      3\u001b[0m     \u001b[39mprint\u001b[39m(\u001b[39m\"\u001b[39m\u001b[39mclick \u001b[39m\u001b[39m\"\u001b[39m, i\u001b[39m+\u001b[39m\u001b[39m1\u001b[39m)\n",
      "Cell \u001b[1;32mIn[10], line 11\u001b[0m, in \u001b[0;36mMehrdad_clicker\u001b[1;34m(path)\u001b[0m\n\u001b[0;32m      8\u001b[0m driver \u001b[39m=\u001b[39m webdriver\u001b[39m.\u001b[39mChrome(options\u001b[39m=\u001b[39mchrome_options)\n\u001b[0;32m     10\u001b[0m \u001b[39m# now use our incognito webdriver for click on `path` link\u001b[39;00m\n\u001b[1;32m---> 11\u001b[0m driver\u001b[39m.\u001b[39;49mget(path)\n\u001b[0;32m     12\u001b[0m time\u001b[39m.\u001b[39msleep(\u001b[39m1\u001b[39m)\n\u001b[0;32m     13\u001b[0m driver\u001b[39m.\u001b[39mquit()\n",
      "File \u001b[1;32m~\\AppData\\Local\\Packages\\PythonSoftwareFoundation.Python.3.11_qbz5n2kfra8p0\\LocalCache\\local-packages\\Python311\\site-packages\\selenium\\webdriver\\remote\\webdriver.py:355\u001b[0m, in \u001b[0;36mWebDriver.get\u001b[1;34m(self, url)\u001b[0m\n\u001b[0;32m    353\u001b[0m \u001b[39mdef\u001b[39;00m \u001b[39mget\u001b[39m(\u001b[39mself\u001b[39m, url: \u001b[39mstr\u001b[39m) \u001b[39m-\u001b[39m\u001b[39m>\u001b[39m \u001b[39mNone\u001b[39;00m:\n\u001b[0;32m    354\u001b[0m \u001b[39m    \u001b[39m\u001b[39m\"\"\"Loads a web page in the current browser session.\"\"\"\u001b[39;00m\n\u001b[1;32m--> 355\u001b[0m     \u001b[39mself\u001b[39;49m\u001b[39m.\u001b[39;49mexecute(Command\u001b[39m.\u001b[39;49mGET, {\u001b[39m\"\u001b[39;49m\u001b[39murl\u001b[39;49m\u001b[39m\"\u001b[39;49m: url})\n",
      "File \u001b[1;32m~\\AppData\\Local\\Packages\\PythonSoftwareFoundation.Python.3.11_qbz5n2kfra8p0\\LocalCache\\local-packages\\Python311\\site-packages\\selenium\\webdriver\\remote\\webdriver.py:346\u001b[0m, in \u001b[0;36mWebDriver.execute\u001b[1;34m(self, driver_command, params)\u001b[0m\n\u001b[0;32m    344\u001b[0m response \u001b[39m=\u001b[39m \u001b[39mself\u001b[39m\u001b[39m.\u001b[39mcommand_executor\u001b[39m.\u001b[39mexecute(driver_command, params)\n\u001b[0;32m    345\u001b[0m \u001b[39mif\u001b[39;00m response:\n\u001b[1;32m--> 346\u001b[0m     \u001b[39mself\u001b[39;49m\u001b[39m.\u001b[39;49merror_handler\u001b[39m.\u001b[39;49mcheck_response(response)\n\u001b[0;32m    347\u001b[0m     response[\u001b[39m\"\u001b[39m\u001b[39mvalue\u001b[39m\u001b[39m\"\u001b[39m] \u001b[39m=\u001b[39m \u001b[39mself\u001b[39m\u001b[39m.\u001b[39m_unwrap_value(response\u001b[39m.\u001b[39mget(\u001b[39m\"\u001b[39m\u001b[39mvalue\u001b[39m\u001b[39m\"\u001b[39m, \u001b[39mNone\u001b[39;00m))\n\u001b[0;32m    348\u001b[0m     \u001b[39mreturn\u001b[39;00m response\n",
      "File \u001b[1;32m~\\AppData\\Local\\Packages\\PythonSoftwareFoundation.Python.3.11_qbz5n2kfra8p0\\LocalCache\\local-packages\\Python311\\site-packages\\selenium\\webdriver\\remote\\errorhandler.py:245\u001b[0m, in \u001b[0;36mErrorHandler.check_response\u001b[1;34m(self, response)\u001b[0m\n\u001b[0;32m    243\u001b[0m         alert_text \u001b[39m=\u001b[39m value[\u001b[39m\"\u001b[39m\u001b[39malert\u001b[39m\u001b[39m\"\u001b[39m]\u001b[39m.\u001b[39mget(\u001b[39m\"\u001b[39m\u001b[39mtext\u001b[39m\u001b[39m\"\u001b[39m)\n\u001b[0;32m    244\u001b[0m     \u001b[39mraise\u001b[39;00m exception_class(message, screen, stacktrace, alert_text)  \u001b[39m# type: ignore[call-arg]  # mypy is not smart enough here\u001b[39;00m\n\u001b[1;32m--> 245\u001b[0m \u001b[39mraise\u001b[39;00m exception_class(message, screen, stacktrace)\n",
      "\u001b[1;31mWebDriverException\u001b[0m: Message: unknown error: net::ERR_CONNECTION_TIMED_OUT\n  (Session info: chrome=115.0.5790.171)\nStacktrace:\nBacktrace:\n\tGetHandleVerifier [0x0053A813+48355]\n\t(No symbol) [0x004CC4B1]\n\t(No symbol) [0x003D5358]\n\t(No symbol) [0x003D1B33]\n\t(No symbol) [0x003C8CA5]\n\t(No symbol) [0x003C9D0A]\n\t(No symbol) [0x003C9003]\n\t(No symbol) [0x003C8355]\n\t(No symbol) [0x003C82EC]\n\t(No symbol) [0x003C6F26]\n\t(No symbol) [0x003C7688]\n\t(No symbol) [0x003D6B52]\n\t(No symbol) [0x0042CF01]\n\t(No symbol) [0x0041A73C]\n\t(No symbol) [0x0042C922]\n\t(No symbol) [0x0041A536]\n\t(No symbol) [0x003F82DC]\n\t(No symbol) [0x003F93DD]\n\tGetHandleVerifier [0x0079AABD+2539405]\n\tGetHandleVerifier [0x007DA78F+2800735]\n\tGetHandleVerifier [0x007D456C+2775612]\n\tGetHandleVerifier [0x005C51E0+616112]\n\t(No symbol) [0x004D5F8C]\n\t(No symbol) [0x004D2328]\n\t(No symbol) [0x004D240B]\n\t(No symbol) [0x004C4FF7]\n\tBaseThreadInitThunk [0x76AD00C9+25]\n\tRtlGetAppContainerNamedObjectPath [0x777C7B1E+286]\n\tRtlGetAppContainerNamedObjectPath [0x777C7AEE+238]\n"
     ]
    }
   ],
   "source": [
    "for i in range(60):\n",
    "    Mehrdad_clicker(\"https://www.irantalent.com/tests/category/skill-programming?utm_source=ittest&utm_medium=sms&utm_campaign=IT-ENY-TT\")\n",
    "    print(\"click \", i+1)"
   ]
  },
  {
   "cell_type": "code",
   "execution_count": 16,
   "metadata": {},
   "outputs": [
    {
     "name": "stdout",
     "output_type": "stream",
     "text": [
      "click  52\n",
      "click  53\n",
      "click  54\n",
      "click  55\n",
      "click  56\n",
      "click  57\n",
      "click  58\n",
      "click  59\n",
      "click  60\n"
     ]
    }
   ],
   "source": [
    "for i in range(9):\n",
    "    Mehrdad_clicker(\"https://www.irantalent.com/tests/category/skill-programming?utm_source=ittest&utm_medium=sms&utm_campaign=IT-ENY-TT\")\n",
    "    print(\"click \", i+52)"
   ]
  },
  {
   "cell_type": "code",
   "execution_count": 4,
   "metadata": {},
   "outputs": [
    {
     "name": "stdout",
     "output_type": "stream",
     "text": [
      "click  1\n",
      "click  2\n",
      "click  3\n",
      "click  4\n",
      "click  5\n",
      "click  6\n",
      "click  7\n",
      "click  8\n",
      "click  9\n",
      "click  10\n",
      "click  11\n",
      "click  12\n",
      "click  13\n",
      "click  14\n",
      "click  15\n",
      "click  16\n",
      "click  17\n",
      "click  18\n",
      "click  19\n",
      "click  20\n",
      "click  21\n",
      "click  22\n",
      "click  23\n",
      "click  24\n",
      "click  25\n",
      "click  26\n",
      "click  27\n",
      "click  28\n",
      "click  29\n",
      "click  30\n",
      "click  31\n",
      "click  32\n",
      "click  33\n",
      "click  34\n",
      "click  35\n",
      "click  36\n",
      "click  37\n",
      "click  38\n",
      "click  39\n",
      "click  40\n",
      "click  41\n",
      "click  42\n",
      "click  43\n",
      "click  44\n",
      "click  45\n",
      "click  46\n",
      "click  47\n",
      "click  48\n",
      "click  49\n",
      "click  50\n",
      "click  51\n",
      "click  52\n",
      "click  53\n",
      "click  54\n",
      "click  55\n",
      "click  56\n",
      "click  57\n",
      "click  58\n",
      "click  59\n",
      "click  60\n"
     ]
    }
   ],
   "source": [
    "for i in range(60):\n",
    "    Mehrdad_clicker(\"https://billing.irantalent.com/bd49c0fd-afb2-4f55-b193-8967114a4e2e\")\n",
    "    print(\"click \", i+1)"
   ]
  },
  {
   "cell_type": "code",
   "execution_count": 6,
   "metadata": {},
   "outputs": [
    {
     "ename": "KeyboardInterrupt",
     "evalue": "",
     "output_type": "error",
     "traceback": [
      "\u001b[1;31m---------------------------------------------------------------------------\u001b[0m",
      "\u001b[1;31mKeyboardInterrupt\u001b[0m                         Traceback (most recent call last)",
      "Cell \u001b[1;32mIn[6], line 2\u001b[0m\n\u001b[0;32m      1\u001b[0m \u001b[39mfor\u001b[39;00m i \u001b[39min\u001b[39;00m \u001b[39mrange\u001b[39m(\u001b[39m60\u001b[39m):\n\u001b[1;32m----> 2\u001b[0m     Mehrdad_clicker(\u001b[39m\"\u001b[39;49m\u001b[39mhttps://www.irantalent.com/tests/category/skill-product-management?utm_source=ittest&utm_medium=sms&utm_campaign=PR-D\u001b[39;49m\u001b[39m\"\u001b[39;49m)\n\u001b[0;32m      3\u001b[0m     \u001b[39mprint\u001b[39m(\u001b[39m\"\u001b[39m\u001b[39mDirector \u001b[39m\u001b[39m\"\u001b[39m, i\u001b[39m+\u001b[39m\u001b[39m1\u001b[39m)\n\u001b[0;32m      4\u001b[0m \u001b[39mfor\u001b[39;00m i \u001b[39min\u001b[39;00m \u001b[39mrange\u001b[39m(\u001b[39m60\u001b[39m):\n",
      "Cell \u001b[1;32mIn[3], line 8\u001b[0m, in \u001b[0;36mMehrdad_clicker\u001b[1;34m(path)\u001b[0m\n\u001b[0;32m      5\u001b[0m chrome_options\u001b[39m.\u001b[39madd_argument(\u001b[39m\"\u001b[39m\u001b[39m--incognito\u001b[39m\u001b[39m\"\u001b[39m)\n\u001b[0;32m      7\u001b[0m \u001b[39m# make a new webdriver, I use from Chrome because I like it\u001b[39;00m\n\u001b[1;32m----> 8\u001b[0m driver \u001b[39m=\u001b[39m webdriver\u001b[39m.\u001b[39;49mChrome(options\u001b[39m=\u001b[39;49mchrome_options)\n\u001b[0;32m     10\u001b[0m \u001b[39m# now use our incognito webdriver for click on `path` link\u001b[39;00m\n\u001b[0;32m     11\u001b[0m driver\u001b[39m.\u001b[39mget(path)\n",
      "File \u001b[1;32m~\\AppData\\Local\\Packages\\PythonSoftwareFoundation.Python.3.11_qbz5n2kfra8p0\\LocalCache\\local-packages\\Python311\\site-packages\\selenium\\webdriver\\chrome\\webdriver.py:49\u001b[0m, in \u001b[0;36mWebDriver.__init__\u001b[1;34m(self, options, service, keep_alive)\u001b[0m\n\u001b[0;32m     45\u001b[0m \u001b[39mself\u001b[39m\u001b[39m.\u001b[39mkeep_alive \u001b[39m=\u001b[39m keep_alive\n\u001b[0;32m     47\u001b[0m \u001b[39mself\u001b[39m\u001b[39m.\u001b[39mservice\u001b[39m.\u001b[39mpath \u001b[39m=\u001b[39m DriverFinder\u001b[39m.\u001b[39mget_path(\u001b[39mself\u001b[39m\u001b[39m.\u001b[39mservice, \u001b[39mself\u001b[39m\u001b[39m.\u001b[39moptions)\n\u001b[1;32m---> 49\u001b[0m \u001b[39msuper\u001b[39;49m()\u001b[39m.\u001b[39;49m\u001b[39m__init__\u001b[39;49m(\n\u001b[0;32m     50\u001b[0m     DesiredCapabilities\u001b[39m.\u001b[39;49mCHROME[\u001b[39m\"\u001b[39;49m\u001b[39mbrowserName\u001b[39;49m\u001b[39m\"\u001b[39;49m],\n\u001b[0;32m     51\u001b[0m     \u001b[39m\"\u001b[39;49m\u001b[39mgoog\u001b[39;49m\u001b[39m\"\u001b[39;49m,\n\u001b[0;32m     52\u001b[0m     \u001b[39mself\u001b[39;49m\u001b[39m.\u001b[39;49moptions,\n\u001b[0;32m     53\u001b[0m     \u001b[39mself\u001b[39;49m\u001b[39m.\u001b[39;49mservice,\n\u001b[0;32m     54\u001b[0m     \u001b[39mself\u001b[39;49m\u001b[39m.\u001b[39;49mkeep_alive,\n\u001b[0;32m     55\u001b[0m )\n",
      "File \u001b[1;32m~\\AppData\\Local\\Packages\\PythonSoftwareFoundation.Python.3.11_qbz5n2kfra8p0\\LocalCache\\local-packages\\Python311\\site-packages\\selenium\\webdriver\\chromium\\webdriver.py:51\u001b[0m, in \u001b[0;36mChromiumDriver.__init__\u001b[1;34m(self, browser_name, vendor_prefix, options, service, keep_alive)\u001b[0m\n\u001b[0;32m     48\u001b[0m \u001b[39mself\u001b[39m\u001b[39m.\u001b[39mservice \u001b[39m=\u001b[39m service\n\u001b[0;32m     49\u001b[0m \u001b[39mself\u001b[39m\u001b[39m.\u001b[39moptions \u001b[39m=\u001b[39m options\n\u001b[1;32m---> 51\u001b[0m \u001b[39mself\u001b[39;49m\u001b[39m.\u001b[39;49mservice\u001b[39m.\u001b[39;49mstart()\n\u001b[0;32m     53\u001b[0m \u001b[39mtry\u001b[39;00m:\n\u001b[0;32m     54\u001b[0m     \u001b[39msuper\u001b[39m()\u001b[39m.\u001b[39m\u001b[39m__init__\u001b[39m(\n\u001b[0;32m     55\u001b[0m         command_executor\u001b[39m=\u001b[39mChromiumRemoteConnection(\n\u001b[0;32m     56\u001b[0m             remote_server_addr\u001b[39m=\u001b[39m\u001b[39mself\u001b[39m\u001b[39m.\u001b[39mservice\u001b[39m.\u001b[39mservice_url,\n\u001b[1;32m   (...)\u001b[0m\n\u001b[0;32m     62\u001b[0m         options\u001b[39m=\u001b[39m\u001b[39mself\u001b[39m\u001b[39m.\u001b[39moptions,\n\u001b[0;32m     63\u001b[0m     )\n",
      "File \u001b[1;32m~\\AppData\\Local\\Packages\\PythonSoftwareFoundation.Python.3.11_qbz5n2kfra8p0\\LocalCache\\local-packages\\Python311\\site-packages\\selenium\\webdriver\\common\\service.py:98\u001b[0m, in \u001b[0;36mService.start\u001b[1;34m(self)\u001b[0m\n\u001b[0;32m     96\u001b[0m \u001b[39mwhile\u001b[39;00m \u001b[39mTrue\u001b[39;00m:\n\u001b[0;32m     97\u001b[0m     \u001b[39mself\u001b[39m\u001b[39m.\u001b[39massert_process_still_running()\n\u001b[1;32m---> 98\u001b[0m     \u001b[39mif\u001b[39;00m \u001b[39mself\u001b[39;49m\u001b[39m.\u001b[39;49mis_connectable():\n\u001b[0;32m     99\u001b[0m         \u001b[39mbreak\u001b[39;00m\n\u001b[0;32m    101\u001b[0m     count \u001b[39m+\u001b[39m\u001b[39m=\u001b[39m \u001b[39m1\u001b[39m\n",
      "File \u001b[1;32m~\\AppData\\Local\\Packages\\PythonSoftwareFoundation.Python.3.11_qbz5n2kfra8p0\\LocalCache\\local-packages\\Python311\\site-packages\\selenium\\webdriver\\common\\service.py:115\u001b[0m, in \u001b[0;36mService.is_connectable\u001b[1;34m(self)\u001b[0m\n\u001b[0;32m    112\u001b[0m \u001b[39mdef\u001b[39;00m \u001b[39mis_connectable\u001b[39m(\u001b[39mself\u001b[39m) \u001b[39m-\u001b[39m\u001b[39m>\u001b[39m \u001b[39mbool\u001b[39m:\n\u001b[0;32m    113\u001b[0m \u001b[39m    \u001b[39m\u001b[39m\"\"\"Establishes a socket connection to determine if the service running\u001b[39;00m\n\u001b[0;32m    114\u001b[0m \u001b[39m    on the port is accessible.\"\"\"\u001b[39;00m\n\u001b[1;32m--> 115\u001b[0m     \u001b[39mreturn\u001b[39;00m utils\u001b[39m.\u001b[39;49mis_connectable(\u001b[39mself\u001b[39;49m\u001b[39m.\u001b[39;49mport)\n",
      "File \u001b[1;32m~\\AppData\\Local\\Packages\\PythonSoftwareFoundation.Python.3.11_qbz5n2kfra8p0\\LocalCache\\local-packages\\Python311\\site-packages\\selenium\\webdriver\\common\\utils.py:102\u001b[0m, in \u001b[0;36mis_connectable\u001b[1;34m(port, host)\u001b[0m\n\u001b[0;32m    100\u001b[0m socket_ \u001b[39m=\u001b[39m \u001b[39mNone\u001b[39;00m\n\u001b[0;32m    101\u001b[0m \u001b[39mtry\u001b[39;00m:\n\u001b[1;32m--> 102\u001b[0m     socket_ \u001b[39m=\u001b[39m socket\u001b[39m.\u001b[39;49mcreate_connection((host, port), \u001b[39m1\u001b[39;49m)\n\u001b[0;32m    103\u001b[0m     result \u001b[39m=\u001b[39m \u001b[39mTrue\u001b[39;00m\n\u001b[0;32m    104\u001b[0m \u001b[39mexcept\u001b[39;00m _is_connectable_exceptions:\n",
      "File \u001b[1;32mC:\\Program Files\\WindowsApps\\PythonSoftwareFoundation.Python.3.11_3.11.1008.0_x64__qbz5n2kfra8p0\\Lib\\socket.py:836\u001b[0m, in \u001b[0;36mcreate_connection\u001b[1;34m(address, timeout, source_address, all_errors)\u001b[0m\n\u001b[0;32m    834\u001b[0m \u001b[39mif\u001b[39;00m source_address:\n\u001b[0;32m    835\u001b[0m     sock\u001b[39m.\u001b[39mbind(source_address)\n\u001b[1;32m--> 836\u001b[0m sock\u001b[39m.\u001b[39mconnect(sa)\n\u001b[0;32m    837\u001b[0m \u001b[39m# Break explicitly a reference cycle\u001b[39;00m\n\u001b[0;32m    838\u001b[0m exceptions\u001b[39m.\u001b[39mclear()\n",
      "\u001b[1;31mKeyboardInterrupt\u001b[0m: "
     ]
    }
   ],
   "source": [
    "for i in range(60):\n",
    "    Mehrdad_clicker(\"https://www.irantalent.com/tests/category/skill-product-management?utm_source=ittest&utm_medium=sms&utm_campaign=PR-D\")\n",
    "    print(\"Director \", i+1)\n",
    "for i in range(60):\n",
    "    Mehrdad_clicker(\"https://www.irantalent.com/tests/category/skill-product-management?utm_source=ittest&utm_medium=sms&utm_campaign=PR-M\")\n",
    "    print(\"manager \", i+1)\n",
    "for i in range(60):\n",
    "    Mehrdad_clicker(\"https://www.irantalent.com/tests/category/skill-product-management?utm_source=ittest&utm_medium=sms&utm_campaign=PR-SE\")\n",
    "    print(\"s expert \", i+1)\n",
    "for i in range(60):\n",
    "    Mehrdad_clicker(\"https://www.irantalent.com/tests/category/skill-product-management?utm_source=ittest&utm_medium=sms&utm_campaign=PR-E\")\n",
    "    print(\"expert \", i+1)\n",
    "for i in range(60):\n",
    "    Mehrdad_clicker(\"https://www.irantalent.com/tests/category/skill-product-management?utm_source=ittest&utm_medium=sms&utm_campaign=PR-F\")\n",
    "    print(\"fresh \", i+1)"
   ]
  },
  {
   "cell_type": "code",
   "execution_count": null,
   "metadata": {},
   "outputs": [],
   "source": []
  }
 ],
 "metadata": {
  "kernelspec": {
   "display_name": "Python 3.11.3 64-bit (microsoft store)",
   "language": "python",
   "name": "python3"
  },
  "language_info": {
   "codemirror_mode": {
    "name": "ipython",
    "version": 3
   },
   "file_extension": ".py",
   "mimetype": "text/x-python",
   "name": "python",
   "nbconvert_exporter": "python",
   "pygments_lexer": "ipython3",
   "version": "3.11.3"
  },
  "orig_nbformat": 4,
  "vscode": {
   "interpreter": {
    "hash": "289d821b8785c67f0a1ce9e061f5ed6562141bdd4a002195869646edbb33ce04"
   }
  }
 },
 "nbformat": 4,
 "nbformat_minor": 2
}
