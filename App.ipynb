{
 "cells": [
  {
   "cell_type": "code",
   "execution_count": 8,
   "metadata": {},
   "outputs": [],
   "source": [
    "# path shold be like this: \n",
    "# \"https://b2n.ir/mehrdad-test\"\n",
    "\n",
    "path = \"https://www.irantalent.com/tests/category/skill-programming?utm_source=ittest&utm_medium=sms&utm_campaign=IT-ENN-FT\"\n"
   ]
  },
  {
   "cell_type": "code",
   "execution_count": 3,
   "metadata": {},
   "outputs": [],
   "source": [
    "# import some things\n",
    "from selenium import webdriver\n",
    "import time\n"
   ]
  },
  {
   "cell_type": "code",
   "execution_count": 10,
   "metadata": {},
   "outputs": [],
   "source": [
    "# make a function for that\n",
    "def Mehrdad_clicker(path):\n",
    "    # set chrome option to make `Incognito`\n",
    "    chrome_options = webdriver.ChromeOptions()\n",
    "    chrome_options.add_argument(\"--incognito\")\n",
    "\n",
    "    # make a new webdriver, I use from Chrome because I like it\n",
    "    driver = webdriver.Chrome(options=chrome_options)\n",
    "\n",
    "    # now use our incognito webdriver for click on `path` link\n",
    "    driver.get(path)\n",
    "    time.sleep(1)\n",
    "    driver.quit()\n",
    "    time.sleep(1)\n"
   ]
  },
  {
   "cell_type": "code",
   "execution_count": 11,
   "metadata": {},
   "outputs": [
    {
     "name": "stdout",
     "output_type": "stream",
     "text": [
      "click  1\n",
      "click  2\n",
      "click  3\n",
      "click  4\n",
      "click  5\n",
      "click  6\n",
      "click  7\n",
      "click  8\n",
      "click  9\n",
      "click  10\n",
      "click  11\n",
      "click  12\n",
      "click  13\n",
      "click  14\n",
      "click  15\n",
      "click  16\n",
      "click  17\n",
      "click  18\n",
      "click  19\n",
      "click  20\n",
      "click  21\n",
      "click  22\n",
      "click  23\n",
      "click  24\n",
      "click  25\n",
      "click  26\n",
      "click  27\n",
      "click  28\n",
      "click  29\n",
      "click  30\n",
      "click  31\n",
      "click  32\n",
      "click  33\n",
      "click  34\n",
      "click  35\n",
      "click  36\n",
      "click  37\n",
      "click  38\n",
      "click  39\n",
      "click  40\n",
      "click  41\n",
      "click  42\n",
      "click  43\n",
      "click  44\n",
      "click  45\n",
      "click  46\n",
      "click  47\n",
      "click  48\n",
      "click  49\n",
      "click  50\n",
      "click  51\n",
      "click  52\n",
      "click  53\n",
      "click  54\n",
      "click  55\n",
      "click  56\n",
      "click  57\n",
      "click  58\n",
      "click  59\n",
      "click  60\n"
     ]
    }
   ],
   "source": [
    "# test\n",
    "for i in range(60):\n",
    "    Mehrdad_clicker(path)\n",
    "    print(\"click \", i+1)"
   ]
  },
  {
   "cell_type": "code",
   "execution_count": null,
   "metadata": {},
   "outputs": [],
   "source": []
  }
 ],
 "metadata": {
  "kernelspec": {
   "display_name": "Python 3.11.3 64-bit (microsoft store)",
   "language": "python",
   "name": "python3"
  },
  "language_info": {
   "codemirror_mode": {
    "name": "ipython",
    "version": 3
   },
   "file_extension": ".py",
   "mimetype": "text/x-python",
   "name": "python",
   "nbconvert_exporter": "python",
   "pygments_lexer": "ipython3",
   "version": "3.11.3"
  },
  "orig_nbformat": 4,
  "vscode": {
   "interpreter": {
    "hash": "289d821b8785c67f0a1ce9e061f5ed6562141bdd4a002195869646edbb33ce04"
   }
  }
 },
 "nbformat": 4,
 "nbformat_minor": 2
}
