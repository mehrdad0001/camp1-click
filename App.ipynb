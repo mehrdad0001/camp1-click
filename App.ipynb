{
 "cells": [
  {
   "cell_type": "code",
   "execution_count": null,
   "metadata": {},
   "outputs": [],
   "source": []
  }
 ],
 "metadata": {
  "kernelspec": {
   "display_name": "Python 3.11.3 64-bit (microsoft store)",
   "language": "python",
   "name": "python3"
  },
  "language_info": {
   "name": "python",
   "version": "3.11.3"
  },
  "orig_nbformat": 4,
  "vscode": {
   "interpreter": {
    "hash": "289d821b8785c67f0a1ce9e061f5ed6562141bdd4a002195869646edbb33ce04"
   }
  }
 },
 "nbformat": 4,
 "nbformat_minor": 2
}
