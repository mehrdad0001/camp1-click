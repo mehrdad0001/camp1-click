{
 "cells": [
  {
   "cell_type": "code",
   "execution_count": 22,
   "metadata": {},
   "outputs": [],
   "source": [
    "# import some things\n",
    "from selenium import webdriver\n",
    "import time\n",
    "\n",
    "\n",
    "# make a function for that\n",
    "def Mehrdad_clicker(url):\n",
    "    firefox_option = webdriver.FirefoxOptions()\n",
    "    firefox_option.add_argument(\"--private\")\n",
    "    driver = webdriver.Firefox(options=firefox_option)\n",
    "    driver.get(url)\n",
    "\n",
    "def camp(path, n=60, name=\"click\"):\n",
    "    for i in range(n):\n",
    "        Mehrdad_clicker(path)\n",
    "        print(name, i+1)"
   ]
  },
  {
   "cell_type": "code",
   "execution_count": 23,
   "metadata": {},
   "outputs": [
    {
     "ename": "TypeError",
     "evalue": "WebDriver.__init__() got an unexpected keyword argument 'firefox_option'",
     "output_type": "error",
     "traceback": [
      "\u001b[1;31m---------------------------------------------------------------------------\u001b[0m",
      "\u001b[1;31mTypeError\u001b[0m                                 Traceback (most recent call last)",
      "Cell \u001b[1;32mIn[23], line 1\u001b[0m\n\u001b[1;32m----> 1\u001b[0m camp(\u001b[39m\"\u001b[39;49m\u001b[39mhttps://www.irantalent.com/farsi\u001b[39;49m\u001b[39m\"\u001b[39;49m)\n",
      "Cell \u001b[1;32mIn[22], line 25\u001b[0m, in \u001b[0;36mcamp\u001b[1;34m(path, n, name)\u001b[0m\n\u001b[0;32m     23\u001b[0m \u001b[39mdef\u001b[39;00m \u001b[39mcamp\u001b[39m(path, n\u001b[39m=\u001b[39m\u001b[39m60\u001b[39m, name\u001b[39m=\u001b[39m\u001b[39m\"\u001b[39m\u001b[39mclick\u001b[39m\u001b[39m\"\u001b[39m):\n\u001b[0;32m     24\u001b[0m     \u001b[39mfor\u001b[39;00m i \u001b[39min\u001b[39;00m \u001b[39mrange\u001b[39m(n):\n\u001b[1;32m---> 25\u001b[0m         Mehrdad_clicker(path)\n\u001b[0;32m     26\u001b[0m         \u001b[39mprint\u001b[39m(name, i\u001b[39m+\u001b[39m\u001b[39m1\u001b[39m)\n",
      "Cell \u001b[1;32mIn[22], line 17\u001b[0m, in \u001b[0;36mMehrdad_clicker\u001b[1;34m(path)\u001b[0m\n\u001b[0;32m     10\u001b[0m firefox_option\u001b[39m.\u001b[39madd_argument(\u001b[39m\"\u001b[39m\u001b[39m--incognito\u001b[39m\u001b[39m\"\u001b[39m)\n\u001b[0;32m     12\u001b[0m \u001b[39m# firefox_profile = webdriver.FirefoxProfile()\u001b[39;00m\n\u001b[0;32m     13\u001b[0m \u001b[39m# firefox_profile.set_preference(\"browser.privatebrowsing.autostart\", True)\u001b[39;00m\n\u001b[0;32m     14\u001b[0m \n\u001b[0;32m     15\u001b[0m \u001b[39m# make a new webdriver, I use from Chrome because I like it\u001b[39;00m\n\u001b[0;32m     16\u001b[0m \u001b[39m# driver = webdriver.Chrome(options=chrome_options)\u001b[39;00m\n\u001b[1;32m---> 17\u001b[0m driver \u001b[39m=\u001b[39m webdriver\u001b[39m.\u001b[39;49mFirefox(firefox_option\u001b[39m=\u001b[39;49mfirefox_option)\n\u001b[0;32m     19\u001b[0m \u001b[39m# now use our incognito webdriver for click on `path` link\u001b[39;00m\n\u001b[0;32m     20\u001b[0m driver\u001b[39m.\u001b[39mget(path)\n",
      "\u001b[1;31mTypeError\u001b[0m: WebDriver.__init__() got an unexpected keyword argument 'firefox_option'"
     ]
    }
   ],
   "source": [
    "camp(\"https://www.irantalent.com/farsi\")"
   ]
  },
  {
   "cell_type": "code",
   "execution_count": 26,
   "metadata": {},
   "outputs": [],
   "source": [
    "from selenium import webdriver\n",
    "\n"
   ]
  },
  {
   "cell_type": "code",
   "execution_count": null,
   "metadata": {},
   "outputs": [],
   "source": []
  }
 ],
 "metadata": {
  "kernelspec": {
   "display_name": "Python 3.11.3 64-bit (microsoft store)",
   "language": "python",
   "name": "python3"
  },
  "language_info": {
   "codemirror_mode": {
    "name": "ipython",
    "version": 3
   },
   "file_extension": ".py",
   "mimetype": "text/x-python",
   "name": "python",
   "nbconvert_exporter": "python",
   "pygments_lexer": "ipython3",
   "version": "3.11.3"
  },
  "orig_nbformat": 4,
  "vscode": {
   "interpreter": {
    "hash": "289d821b8785c67f0a1ce9e061f5ed6562141bdd4a002195869646edbb33ce04"
   }
  }
 },
 "nbformat": 4,
 "nbformat_minor": 2
}
