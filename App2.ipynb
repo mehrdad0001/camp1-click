{
 "cells": [
  {
   "cell_type": "code",
   "execution_count": 35,
   "metadata": {},
   "outputs": [],
   "source": [
    "# import some things\n",
    "from selenium import webdriver\n",
    "from selenium.webdriver.common.by import By\n",
    "import time\n",
    "\n",
    "\n",
    "# make a function for that\n",
    "def Mehrdad_clicker(url):\n",
    "    firefox_option = webdriver.FirefoxOptions()\n",
    "    firefox_option.add_argument(\"--private\")\n",
    "    driver = webdriver.Firefox(options=firefox_option)\n",
    "    driver.implicitly_wait(3)\n",
    "    driver.get(url)\n",
    "    \n",
    "    driver.implicitly_wait(3)\n",
    "    xpath = \"/html/body/app-root/div/div/div[2]/div/test/test-landing/div[1]/div[1]/div[2]/div/div[2]/div/button\"\n",
    "    pay_btn = driver.find_element(By.XPATH, xpath)\n",
    "    pay_btn.click()\n",
    "\n",
    "    # driver.quit()\n",
    "\n",
    "def camp(path, n=60, name=\"click\"):\n",
    "    for i in range(n):\n",
    "        Mehrdad_clicker(path)\n",
    "        print(name, i+1)"
   ]
  },
  {
   "cell_type": "code",
   "execution_count": 37,
   "metadata": {},
   "outputs": [],
   "source": [
    "Mehrdad_clicker(\"https://www.irantalent.com/tests/market-research\")"
   ]
  },
  {
   "cell_type": "code",
   "execution_count": 78,
   "metadata": {},
   "outputs": [],
   "source": [
    "# thisisapass\n",
    "# thisisanemail@email.com\n",
    "url = \"https://www.irantalent.com/tests/market-research\"\n",
    "firefox_option = webdriver.FirefoxOptions()\n",
    "firefox_option.add_argument(\"--private\")\n",
    "driver = webdriver.Firefox(options=firefox_option)"
   ]
  },
  {
   "cell_type": "code",
   "execution_count": 79,
   "metadata": {},
   "outputs": [
    {
     "ename": "NoSuchElementException",
     "evalue": "Message: Unable to locate element: //*[@id=\"test-start\"]; For documentation on this error, please visit: https://www.selenium.dev/documentation/webdriver/troubleshooting/errors#no-such-element-exception\nStacktrace:\nRemoteError@chrome://remote/content/shared/RemoteError.sys.mjs:8:8\nWebDriverError@chrome://remote/content/shared/webdriver/Errors.sys.mjs:187:5\nNoSuchElementError@chrome://remote/content/shared/webdriver/Errors.sys.mjs:505:5\ndom.find/</<@chrome://remote/content/shared/DOM.sys.mjs:132:16\n",
     "output_type": "error",
     "traceback": [
      "\u001b[1;31m---------------------------------------------------------------------------\u001b[0m",
      "\u001b[1;31mNoSuchElementException\u001b[0m                    Traceback (most recent call last)",
      "Cell \u001b[1;32mIn[79], line 4\u001b[0m\n\u001b[0;32m      1\u001b[0m driver\u001b[39m.\u001b[39mget(url)\n\u001b[0;32m      3\u001b[0m xpath \u001b[39m=\u001b[39m \u001b[39m'\u001b[39m\u001b[39m//*[@id=\u001b[39m\u001b[39m\"\u001b[39m\u001b[39mtest-start\u001b[39m\u001b[39m\"\u001b[39m\u001b[39m]\u001b[39m\u001b[39m'\u001b[39m\n\u001b[1;32m----> 4\u001b[0m pay_btn \u001b[39m=\u001b[39m driver\u001b[39m.\u001b[39;49mfind_element(By\u001b[39m.\u001b[39;49mXPATH, xpath)\n\u001b[0;32m      5\u001b[0m pay_btn\u001b[39m.\u001b[39mclick()\n\u001b[0;32m      7\u001b[0m \u001b[39m# xpath = '//*[@id=\"email_input\"]'\u001b[39;00m\n\u001b[0;32m      8\u001b[0m \u001b[39m# email_txt = driver.find_element(By.XPATH, xpath)\u001b[39;00m\n\u001b[0;32m      9\u001b[0m \u001b[39m# email_txt.send_keys(\"thisisanemail@email.com\")\u001b[39;00m\n\u001b[1;32m   (...)\u001b[0m\n\u001b[0;32m     46\u001b[0m \u001b[39m# pay_btn = driver.find_element(By.XPATH, xpath)\u001b[39;00m\n\u001b[0;32m     47\u001b[0m \u001b[39m# pay_btn.click()\u001b[39;00m\n",
      "File \u001b[1;32m~\\AppData\\Local\\Packages\\PythonSoftwareFoundation.Python.3.11_qbz5n2kfra8p0\\LocalCache\\local-packages\\Python311\\site-packages\\selenium\\webdriver\\remote\\webdriver.py:740\u001b[0m, in \u001b[0;36mWebDriver.find_element\u001b[1;34m(self, by, value)\u001b[0m\n\u001b[0;32m    737\u001b[0m     by \u001b[39m=\u001b[39m By\u001b[39m.\u001b[39mCSS_SELECTOR\n\u001b[0;32m    738\u001b[0m     value \u001b[39m=\u001b[39m \u001b[39mf\u001b[39m\u001b[39m'\u001b[39m\u001b[39m[name=\u001b[39m\u001b[39m\"\u001b[39m\u001b[39m{\u001b[39;00mvalue\u001b[39m}\u001b[39;00m\u001b[39m\"\u001b[39m\u001b[39m]\u001b[39m\u001b[39m'\u001b[39m\n\u001b[1;32m--> 740\u001b[0m \u001b[39mreturn\u001b[39;00m \u001b[39mself\u001b[39;49m\u001b[39m.\u001b[39;49mexecute(Command\u001b[39m.\u001b[39;49mFIND_ELEMENT, {\u001b[39m\"\u001b[39;49m\u001b[39musing\u001b[39;49m\u001b[39m\"\u001b[39;49m: by, \u001b[39m\"\u001b[39;49m\u001b[39mvalue\u001b[39;49m\u001b[39m\"\u001b[39;49m: value})[\u001b[39m\"\u001b[39m\u001b[39mvalue\u001b[39m\u001b[39m\"\u001b[39m]\n",
      "File \u001b[1;32m~\\AppData\\Local\\Packages\\PythonSoftwareFoundation.Python.3.11_qbz5n2kfra8p0\\LocalCache\\local-packages\\Python311\\site-packages\\selenium\\webdriver\\remote\\webdriver.py:346\u001b[0m, in \u001b[0;36mWebDriver.execute\u001b[1;34m(self, driver_command, params)\u001b[0m\n\u001b[0;32m    344\u001b[0m response \u001b[39m=\u001b[39m \u001b[39mself\u001b[39m\u001b[39m.\u001b[39mcommand_executor\u001b[39m.\u001b[39mexecute(driver_command, params)\n\u001b[0;32m    345\u001b[0m \u001b[39mif\u001b[39;00m response:\n\u001b[1;32m--> 346\u001b[0m     \u001b[39mself\u001b[39;49m\u001b[39m.\u001b[39;49merror_handler\u001b[39m.\u001b[39;49mcheck_response(response)\n\u001b[0;32m    347\u001b[0m     response[\u001b[39m\"\u001b[39m\u001b[39mvalue\u001b[39m\u001b[39m\"\u001b[39m] \u001b[39m=\u001b[39m \u001b[39mself\u001b[39m\u001b[39m.\u001b[39m_unwrap_value(response\u001b[39m.\u001b[39mget(\u001b[39m\"\u001b[39m\u001b[39mvalue\u001b[39m\u001b[39m\"\u001b[39m, \u001b[39mNone\u001b[39;00m))\n\u001b[0;32m    348\u001b[0m     \u001b[39mreturn\u001b[39;00m response\n",
      "File \u001b[1;32m~\\AppData\\Local\\Packages\\PythonSoftwareFoundation.Python.3.11_qbz5n2kfra8p0\\LocalCache\\local-packages\\Python311\\site-packages\\selenium\\webdriver\\remote\\errorhandler.py:245\u001b[0m, in \u001b[0;36mErrorHandler.check_response\u001b[1;34m(self, response)\u001b[0m\n\u001b[0;32m    243\u001b[0m         alert_text \u001b[39m=\u001b[39m value[\u001b[39m\"\u001b[39m\u001b[39malert\u001b[39m\u001b[39m\"\u001b[39m]\u001b[39m.\u001b[39mget(\u001b[39m\"\u001b[39m\u001b[39mtext\u001b[39m\u001b[39m\"\u001b[39m)\n\u001b[0;32m    244\u001b[0m     \u001b[39mraise\u001b[39;00m exception_class(message, screen, stacktrace, alert_text)  \u001b[39m# type: ignore[call-arg]  # mypy is not smart enough here\u001b[39;00m\n\u001b[1;32m--> 245\u001b[0m \u001b[39mraise\u001b[39;00m exception_class(message, screen, stacktrace)\n",
      "\u001b[1;31mNoSuchElementException\u001b[0m: Message: Unable to locate element: //*[@id=\"test-start\"]; For documentation on this error, please visit: https://www.selenium.dev/documentation/webdriver/troubleshooting/errors#no-such-element-exception\nStacktrace:\nRemoteError@chrome://remote/content/shared/RemoteError.sys.mjs:8:8\nWebDriverError@chrome://remote/content/shared/webdriver/Errors.sys.mjs:187:5\nNoSuchElementError@chrome://remote/content/shared/webdriver/Errors.sys.mjs:505:5\ndom.find/</<@chrome://remote/content/shared/DOM.sys.mjs:132:16\n"
     ]
    }
   ],
   "source": [
    "\n",
    "driver.get(url)\n",
    "\n",
    "xpath = '//*[@id=\"test-start\"]'\n",
    "pay_btn = driver.find_element(By.XPATH, xpath)\n",
    "pay_btn.click()\n",
    "\n",
    "# xpath = '//*[@id=\"email_input\"]'\n",
    "# email_txt = driver.find_element(By.XPATH, xpath)\n",
    "# email_txt.send_keys(\"thisisanemail@email.com\")\n",
    "\n",
    "# xpath = '//*[@id=\"password_input\"]'\n",
    "# pass_txt = driver.find_element(By.XPATH, xpath)\n",
    "# pass_txt.send_keys(\"thisisapass\")\n",
    "\n",
    "# xpath = '/html/body/app-root/div/div/div[2]/div/auth-login/authentication/div/div/div/mat-card/form/button'\n",
    "# submit_btn = driver.find_element(By.XPATH, xpath)\n",
    "# # driver.implicitly_wait(3)\n",
    "# submit_btn.click()\n",
    "\n",
    "# driver.implicitly_wait(5)\n",
    "# time.sleep(3)\n",
    "\n",
    "# xpath = '/html/body/app-root/div/div/div[2]/div/auth-verify-mobile/authentication/div/div/div/div/a/img'\n",
    "# irantalent_logo = driver.find_element(By.XPATH, xpath)\n",
    "# irantalent_logo.click()\n",
    "\n",
    "# driver.implicitly_wait(3)\n",
    "# driver.back()\n",
    "# driver.implicitly_wait(3)\n",
    "# driver.back()\n",
    "# driver.implicitly_wait(3)\n",
    "\n",
    "# driver.back()\n",
    "# driver.back()\n",
    "# xpath = \"/html/body/app-root/div/div/div[2]/div/test/test-landing/div[1]/div[1]/div[2]/div/div[2]/div/button\"\n",
    "# pay_btn = driver.find_element(By.XPATH, xpath)\n",
    "# pay_btn.click()\n",
    "# driver.implicitly_wait(3)\n",
    "\n",
    "# xpath = '/html/body/div/div/div/div[2]/div/button'\n",
    "# pay_btn = driver.find_element(By.XPATH, xpath)\n",
    "# pay_btn.click()\n",
    "# driver.implicitly_wait(3)\n",
    "\n",
    "# xpath = '/html/body/div/div/div/div[2]/div/button'\n",
    "# pay_btn = driver.find_element(By.XPATH, xpath)\n",
    "# pay_btn.click()\n",
    "\n",
    "driver.quit()\n"
   ]
  },
  {
   "cell_type": "code",
   "execution_count": 70,
   "metadata": {},
   "outputs": [],
   "source": [
    "xpath = '/html/body/div/div/div/div[2]/div/button'\n",
    "pay_btn = driver.find_element(By.XPATH, xpath)\n",
    "pay_btn.click()\n",
    "driver.implicitly_wait(3)"
   ]
  },
  {
   "cell_type": "code",
   "execution_count": 56,
   "metadata": {},
   "outputs": [],
   "source": []
  },
  {
   "cell_type": "code",
   "execution_count": null,
   "metadata": {},
   "outputs": [],
   "source": []
  }
 ],
 "metadata": {
  "kernelspec": {
   "display_name": "Python 3.11.3 64-bit (microsoft store)",
   "language": "python",
   "name": "python3"
  },
  "language_info": {
   "codemirror_mode": {
    "name": "ipython",
    "version": 3
   },
   "file_extension": ".py",
   "mimetype": "text/x-python",
   "name": "python",
   "nbconvert_exporter": "python",
   "pygments_lexer": "ipython3",
   "version": "3.11.3"
  },
  "orig_nbformat": 4,
  "vscode": {
   "interpreter": {
    "hash": "289d821b8785c67f0a1ce9e061f5ed6562141bdd4a002195869646edbb33ce04"
   }
  }
 },
 "nbformat": 4,
 "nbformat_minor": 2
}
